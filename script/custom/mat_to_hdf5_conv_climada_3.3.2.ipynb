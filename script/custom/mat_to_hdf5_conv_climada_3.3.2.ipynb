{
 "cells": [
  {
   "cell_type": "markdown",
   "id": "9ff1b31f",
   "metadata": {},
   "source": [
    "## Conversion of hazard data in .mat to .hdf5 format\n",
    "This notebook is tested in climada-python version 3.3.2, to convert the hazard file in .mat format to .hdf5 format because the latest climada python version higher than 5.0.0 does not support reading .mat format hazard file.\n"
   ]
  },
  {
   "cell_type": "code",
   "execution_count": 1,
   "id": "cf3ca8d6",
   "metadata": {},
   "outputs": [
    {
     "name": "stdout",
     "output_type": "stream",
     "text": [
      "Original working directory:  /Users/rabinatwayana/Rabina/1_Internship/script/custom\n",
      "Updated working directory:  /Users/rabinatwayana/Rabina/1_Internship\n"
     ]
    }
   ],
   "source": [
    "# Update the chdir path below to match the directory structure on your PC\n",
    "\n",
    "import os\n",
    "print(\"Original working directory: \", os.getcwd())\n",
    "os.chdir(\"/Users/rabinatwayana/Rabina/1_Internship/\")\n",
    "print(\"Updated working directory: \", os.getcwd())"
   ]
  },
  {
   "cell_type": "markdown",
   "id": "53c48281",
   "metadata": {},
   "source": [
    "<span style=\"color:red;\">**Note:**</span> If you are using climada python 6.0.1 package directory, make sure to run this script outside the package directory to avoid relative imports"
   ]
  },
  {
   "cell_type": "code",
   "execution_count": null,
   "id": "5d8c0041",
   "metadata": {},
   "outputs": [],
   "source": [
    "from climada.hazard import Hazard\n",
    "\n",
    "# Path to the input .mat file containing hazard data\n",
    "# INPUT_MAT_HAZ_FILE = 'script/applications/eca_san_salvador/Salvador_hazard_FL_2015.mat'\n",
    "INPUT_MAT_HAZ_FILE = 'script/applications/eca_san_salvador/Salvador_hazard_FL_2040_extreme_cc.mat'\n",
    "\n",
    "\n",
    "haz_acel = Hazard.from_mat(INPUT_MAT_HAZ_FILE) #load file\n",
    "\n",
    "# Path where the converted HDF5 file will be saved\n",
    "OUTPUT_HDF5_HAZ_FILE=\"script/applications/eca_san_salvador/Salvador_hazard_FL_2015.hdf5\"\n",
    "OUTPUT_HDF5_HAZ_FILE=\"script/applications/eca_san_salvador/Salvador_hazard_FL_2040_extreme_cc.hdf5\"\n",
    "haz_acel.write_hdf5(OUTPUT_HDF5_HAZ_FILE) # write file "
   ]
  }
 ],
 "metadata": {
  "kernelspec": {
   "display_name": "climada_env",
   "language": "python",
   "name": "python3"
  },
  "language_info": {
   "codemirror_mode": {
    "name": "ipython",
    "version": 3
   },
   "file_extension": ".py",
   "mimetype": "text/x-python",
   "name": "python",
   "nbconvert_exporter": "python",
   "pygments_lexer": "ipython3",
   "version": "3.9.18"
  }
 },
 "nbformat": 4,
 "nbformat_minor": 5
}
