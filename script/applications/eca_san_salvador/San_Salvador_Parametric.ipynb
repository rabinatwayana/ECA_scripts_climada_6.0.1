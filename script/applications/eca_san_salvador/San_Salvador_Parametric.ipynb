{
 "cells": [
  {
   "cell_type": "markdown",
   "metadata": {},
   "source": [
    "# PARAMETRIC INSURANCE COVER IN SAN SALVADOR\n",
    "\n",
    "This builds on the notebooks describing risk assessment [San Salvador Risk](San_Salvador_Risk.ipynb) and adaptation economics [San Salvador Adaptation](San_Salvador_Adaptation.ipynb) in San Salvador. In this section we will consider application of a parametric insurance cover at household level and combine with outcomes of the adaptation economics part."
   ]
  },
  {
   "cell_type": "markdown",
   "metadata": {},
   "source": [
    "## The working of a parametric insurance structure\n",
    "\n",
    "Instead of using CLIMADA to evaluate risks, impacts, benefits of measures and indemnity insurance (as above), one can also assess parametric insurance. We apply the parametric only to the AUP houses, with a maximum payout of 500 USD per household, starting at a flood height of 1m, with maximum payout at 5m, linear in between. First, read the Excel data where Value represents maximum payout and the impact function serves as payout structure."
   ]
  },
  {
   "cell_type": "code",
   "execution_count": 2,
   "metadata": {},
   "outputs": [],
   "source": [
    "%matplotlib inline\n",
    "import numpy as np\n",
    "import contextily as ctx\n",
    "from climada.entity import Entity\n",
    "import copy\n",
    "import matplotlib.patches as patches\n",
    "from climada.hazard import Hazard\n",
    "from climada.engine import CostBenefit\n",
    "import matplotlib.colors as colors\n",
    "import contextily as ctx\n",
    "from climada.engine import Impact\n",
    "\n",
    "ent_2015_param = Entity.from_excel(\"FL_entity_Acelhuate_parametric.xlsx\")\n",
    "ent_2015_param.exposures.ref_year = 2015  # fix reference year\n",
    "ent_2015_param.check()\n",
    "\n",
    "# flood as for 2015\n",
    "HAZ_FILE = \"Salvador_hazard_FL_2015.hdf5\"\n",
    "haz_2015 = Hazard.from_hdf5(HAZ_FILE)  # load file"
   ]
  },
  {
   "cell_type": "markdown",
   "metadata": {},
   "source": [
    "We now calculate the parametric insurance payout based on the AUP coordinates and the flood hazard:"
   ]
  },
  {
   "cell_type": "code",
   "execution_count": 3,
   "metadata": {},
   "outputs": [
    {
     "name": "stdout",
     "output_type": "stream",
     "text": [
      "2025-07-03 12:30:41,454 - climada.engine.impact - WARNING - The use of Impact().calc() is deprecated. Use ImpactCalc().impact() instead.\n",
      "Annual expected payout: 0.0 USD\n"
     ]
    },
    {
     "data": {
      "text/plain": [
       "<Axes: title={'center': 'Exceedance frequency curve'}, xlabel='Return period (year)', ylabel='Impact (USD)'>"
      ]
     },
     "execution_count": 3,
     "metadata": {},
     "output_type": "execute_result"
    },
    {
     "data": {
      "image/png": "[encoded data removed]",
      "text/plain": [
       "<Figure size 640x480 with 1 Axes>"
      ]
     },
     "metadata": {},
     "output_type": "display_data"
    }
   ],
   "source": [
    "param_payout = Impact()\n",
    "param_payout.calc(\n",
    "    ent_2015_param.exposures, ent_2015_param.impact_funcs, haz_2015\n",
    ")  # compute parametric payout\n",
    "print(\n",
    "    \"Annual expected payout: {:} USD\".format(param_payout.aai_agg)\n",
    ")  # get average annual payout\n",
    "param_payout.calc_freq_curve().plot()"
   ]
  },
  {
   "cell_type": "markdown",
   "metadata": {},
   "source": [
    "Now let's re-calculate some results we had in [San Salvador Adaptation](San_Salvador_Adaptation.ipynb). We need the combined effect of `Domestico` measures without application of (indemnity-based) insurance, as stored in `cb_comb` (contains the cost-benefit of combined measures):"
   ]
  },
  {
   "cell_type": "code",
   "execution_count": 6,
   "metadata": {},
   "outputs": [
    {
     "name": "stdout",
     "output_type": "stream",
     "text": [
      "\n",
      "Measure                         Cost (USD m)    Benefit (USD m)    Benefit/Cost\n",
      "----------------------------  --------------  -----------------  --------------\n",
      "Sanitarios de descarga Dual          0.93099            24.1967        25.9903\n",
      "Ahorradores en Agua en casas         1.39648            24.8462        17.792\n",
      "No descargas en Lluvia               0.41894            25.811         61.6103\n",
      "Reuso de agua de enjuage             3.07388            24.1967         7.87172\n",
      "Puentes sin basura                   3.78912            24.8462         6.55726\n",
      "Captacion de agua de techos         18.0857             24.8462         1.3738\n",
      "\n",
      "--------------------  ---------  -------\n",
      "Total climate risk:   109.282    (USD m)\n",
      "Average annual risk:    7.42983  (USD m)\n",
      "Residual risk:        -39.4609   (USD m)\n",
      "--------------------  ---------  -------\n",
      "Net Present Values\n",
      "\n",
      "Measure      Cost (USD m)    Benefit (USD m)    Benefit/Cost\n",
      "---------  --------------  -----------------  --------------\n",
      "Domestico         1.81542             27.114         14.9354\n",
      "\n",
      "--------------------  ---------  -------\n",
      "Total climate risk:   109.282    (USD m)\n",
      "Average annual risk:    7.42983  (USD m)\n",
      "Residual risk:         82.1683   (USD m)\n",
      "--------------------  ---------  -------\n",
      "Net Present Values\n"
     ]
    }
   ],
   "source": [
    "ent_2015 = Entity.from_excel(\"FL_entity_Acelhuate_houses.xlsx\")\n",
    "ent_2015.exposures.ref_year = 2015  # fix reference year\n",
    "ent_2015.check()\n",
    "\n",
    "ent_2040 = copy.deepcopy(ent_2015)\n",
    "\n",
    "# Exposures: yearly economic growth of 2% in exposures\n",
    "ent_2040.exposures.ref_year = 2040\n",
    "growth = 0.02\n",
    "ent_2040.exposures.gdf[\"value\"] = ent_2040.exposures.gdf.value.values * (\n",
    "    1 + growth\n",
    ") ** (ent_2040.exposures.ref_year - ent_2015.exposures.ref_year)\n",
    "ent_2040.check()  # check values are well set and assignes default values\n",
    "\n",
    "# flood as for 2040 with extreme climate change\n",
    "HAZ_FILE = \"Salvador_hazard_FL_2040_extreme_cc.hdf5\"\n",
    "haz_2040 = Hazard.from_hdf5(HAZ_FILE)  # load file\n",
    "\n",
    "# expected annual impact\n",
    "cb_acel = CostBenefit()\n",
    "cb_acel.calc(haz_2015, ent_2015, haz_2040, ent_2040, save_imp=True)  # compute\n",
    "\n",
    "cb_comb = cb_acel.combine_measures(\n",
    "    [\"No descargas en Lluvia\", \"Ahorradores en Agua en casas\"],\n",
    "    \"Domestico\",\n",
    "    colors.to_rgb(\"lightcoral\"),\n",
    "    ent_2015.disc_rates,\n",
    ")"
   ]
  },
  {
   "cell_type": "markdown",
   "metadata": {},
   "source": [
    "We can now calculate the damage left after application of the `Domestico` measures (`damage_after_measures`) PLUS the payout of the parametric cover (`parametric_payout`) for AUP houses:"
   ]
  },
  {
   "cell_type": "code",
   "execution_count": 7,
   "metadata": {},
   "outputs": [
    {
     "name": "stdout",
     "output_type": "stream",
     "text": [
      "residual damage: 2.546e+06 USD\n"
     ]
    }
   ],
   "source": [
    "damage_after_measures = cb_comb.imp_meas_present[\"Domestico\"][\"impact\"].at_event\n",
    "paramteric_payout = param_payout.at_event\n",
    "residual_damage = np.sum(\n",
    "    (damage_after_measures - paramteric_payout) * haz_2015.frequency\n",
    ")\n",
    "print(\"residual damage: {:.3e} USD\".format(residual_damage))"
   ]
  }
 ],
 "metadata": {
  "kernelspec": {
   "display_name": "climada_env_6_0_1",
   "language": "python",
   "name": "python3"
  },
  "language_info": {
   "codemirror_mode": {
    "name": "ipython",
    "version": 3
   },
   "file_extension": ".py",
   "mimetype": "text/x-python",
   "name": "python",
   "nbconvert_exporter": "python",
   "pygments_lexer": "ipython3",
   "version": "3.11.13"
  }
 },
 "nbformat": 4,
 "nbformat_minor": 4
}
