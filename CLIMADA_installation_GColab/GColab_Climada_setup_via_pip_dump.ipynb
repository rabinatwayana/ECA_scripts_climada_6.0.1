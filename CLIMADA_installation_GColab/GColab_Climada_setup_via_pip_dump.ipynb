{
  "nbformat": 4,
  "nbformat_minor": 0,
  "metadata": {
    "colab": {
      "provenance": []
    },
    "kernelspec": {
      "name": "python3",
      "display_name": "Python 3"
    },
    "language_info": {
      "name": "python"
    }
  },
  "cells": [
    {
      "cell_type": "markdown",
      "source": [
        "In this notebook, climada is installed by cloning the code from github.\n",
        "\n",
        "Fiona is installed separately, because the package is not mentioned in requirements/env_climada.yml and need to update the proj.db."
      ],
      "metadata": {
        "id": "Jl4aexAyuz59"
      }
    },
    {
      "cell_type": "code",
      "source": [
        "!pip install fiona==1.10.1 --force-reinstall --no-cache-dir\n",
        "\n",
        "## Restart the session"
      ],
      "metadata": {
        "id": "zgjrImZtuE03"
      },
      "execution_count": null,
      "outputs": []
    },
    {
      "cell_type": "code",
      "execution_count": 1,
      "metadata": {
        "colab": {
          "base_uri": "https://localhost:8080/"
        },
        "id": "T83YamWqtdRL",
        "outputId": "c61056b8-6824-4897-cebd-1a787e9adf0b"
      },
      "outputs": [
        {
          "output_type": "stream",
          "name": "stdout",
          "text": [
            "Cloning into 'climada_python'...\n",
            "remote: Enumerating objects: 37551, done.\u001b[K\n",
            "remote: Counting objects: 100% (2161/2161), done.\u001b[K\n",
            "remote: Compressing objects: 100% (765/765), done.\u001b[K\n",
            "remote: Total 37551 (delta 1772), reused 1474 (delta 1392), pack-reused 35390 (from 3)\u001b[K\n",
            "Receiving objects: 100% (37551/37551), 199.22 MiB | 17.18 MiB/s, done.\n",
            "Resolving deltas: 100% (28154/28154), done.\n"
          ]
        }
      ],
      "source": [
        "!git clone https://github.com/CLIMADA-project/climada_python.git"
      ]
    },
    {
      "cell_type": "code",
      "source": [
        "%cd climada_python"
      ],
      "metadata": {
        "colab": {
          "base_uri": "https://localhost:8080/"
        },
        "id": "gFRC9MKHtfKC",
        "outputId": "9cebd57b-4961-44f6-e173-f9ffb4a8fafa"
      },
      "execution_count": 3,
      "outputs": [
        {
          "output_type": "stream",
          "name": "stdout",
          "text": [
            "/content/climada_python\n"
          ]
        }
      ]
    },
    {
      "cell_type": "code",
      "source": [
        "# Install the package\n",
        "!pip install -e ."
      ],
      "metadata": {
        "colab": {
          "base_uri": "https://localhost:8080/"
        },
        "id": "muaVcgpXti4h",
        "outputId": "7a37136c-12b6-477c-da5f-b950f64d712f"
      },
      "execution_count": 4,
      "outputs": [
        {
          "output_type": "stream",
          "name": "stdout",
          "text": [
            "Obtaining file:///content/climada_python\n",
            "  Installing build dependencies ... \u001b[?25l\u001b[?25hdone\n",
            "  Checking if build backend supports build_editable ... \u001b[?25l\u001b[?25hdone\n",
            "  Getting requirements to build editable ... \u001b[?25l\u001b[?25hdone\n",
            "  Installing backend dependencies ... \u001b[?25l\u001b[?25hdone\n",
            "  Preparing editable metadata (pyproject.toml) ... \u001b[?25l\u001b[?25hdone\n",
            "Collecting bayesian-optimization<2.0 (from climada==6.0.1)\n",
            "  Downloading bayesian_optimization-1.5.1-py3-none-any.whl.metadata (16 kB)\n",
            "Requirement already satisfied: bottleneck in /usr/local/lib/python3.11/dist-packages (from climada==6.0.1) (1.4.2)\n",
            "Collecting cartopy (from climada==6.0.1)\n",
            "  Downloading Cartopy-0.24.1-cp311-cp311-manylinux_2_17_x86_64.manylinux2014_x86_64.whl.metadata (7.9 kB)\n",
            "Collecting cfgrib (from climada==6.0.1)\n",
            "  Downloading cfgrib-0.9.15.0-py3-none-any.whl.metadata (55 kB)\n",
            "\u001b[2K     \u001b[90m━━━━━━━━━━━━━━━━━━━━━━━━━━━━━━━━━━━━━━━━\u001b[0m \u001b[32m55.5/55.5 kB\u001b[0m \u001b[31m2.0 MB/s\u001b[0m eta \u001b[36m0:00:00\u001b[0m\n",
            "\u001b[?25hCollecting contextily (from climada==6.0.1)\n",
            "  Downloading contextily-1.6.2-py3-none-any.whl.metadata (2.9 kB)\n",
            "Requirement already satisfied: dask in /usr/local/lib/python3.11/dist-packages (from climada==6.0.1) (2024.12.1)\n",
            "Collecting deprecation (from climada==6.0.1)\n",
            "  Downloading deprecation-2.1.0-py2.py3-none-any.whl.metadata (4.6 kB)\n",
            "Requirement already satisfied: geopandas in /usr/local/lib/python3.11/dist-packages (from climada==6.0.1) (1.0.1)\n",
            "Requirement already satisfied: h5py in /usr/local/lib/python3.11/dist-packages (from climada==6.0.1) (3.14.0)\n",
            "Collecting haversine (from climada==6.0.1)\n",
            "  Downloading haversine-2.9.0-py2.py3-none-any.whl.metadata (5.8 kB)\n",
            "Requirement already satisfied: matplotlib in /usr/local/lib/python3.11/dist-packages (from climada==6.0.1) (3.10.0)\n",
            "Collecting netcdf4 (from climada==6.0.1)\n",
            "  Downloading netCDF4-1.7.2-cp311-cp311-manylinux_2_17_x86_64.manylinux2014_x86_64.whl.metadata (1.8 kB)\n",
            "Requirement already satisfied: numba in /usr/local/lib/python3.11/dist-packages (from climada==6.0.1) (0.60.0)\n",
            "Requirement already satisfied: openpyxl in /usr/local/lib/python3.11/dist-packages (from climada==6.0.1) (3.1.5)\n",
            "Collecting overpy (from climada==6.0.1)\n",
            "  Downloading overpy-0.7-py3-none-any.whl.metadata (3.5 kB)\n",
            "Requirement already satisfied: pandas in /usr/local/lib/python3.11/dist-packages (from climada==6.0.1) (2.2.2)\n",
            "Requirement already satisfied: pandas-datareader in /usr/local/lib/python3.11/dist-packages (from climada==6.0.1) (0.10.0)\n",
            "Collecting pathos (from climada==6.0.1)\n",
            "  Downloading pathos-0.3.4-py3-none-any.whl.metadata (11 kB)\n",
            "Requirement already satisfied: peewee in /usr/local/lib/python3.11/dist-packages (from climada==6.0.1) (3.18.1)\n",
            "Requirement already satisfied: pillow in /usr/local/lib/python3.11/dist-packages (from climada==6.0.1) (11.2.1)\n",
            "Collecting pint (from climada==6.0.1)\n",
            "  Downloading Pint-0.24.4-py3-none-any.whl.metadata (8.5 kB)\n",
            "Collecting pycountry (from climada==6.0.1)\n",
            "  Downloading pycountry-24.6.1-py3-none-any.whl.metadata (12 kB)\n",
            "Requirement already satisfied: pyproj in /usr/local/lib/python3.11/dist-packages (from climada==6.0.1) (3.7.1)\n",
            "Collecting rasterio (from climada==6.0.1)\n",
            "  Downloading rasterio-1.4.3-cp311-cp311-manylinux_2_17_x86_64.manylinux2014_x86_64.whl.metadata (9.1 kB)\n",
            "Collecting salib (from climada==6.0.1)\n",
            "  Downloading salib-1.5.1-py3-none-any.whl.metadata (11 kB)\n",
            "Requirement already satisfied: scikit-learn in /usr/local/lib/python3.11/dist-packages (from climada==6.0.1) (1.6.1)\n",
            "Requirement already satisfied: seaborn in /usr/local/lib/python3.11/dist-packages (from climada==6.0.1) (0.13.2)\n",
            "Requirement already satisfied: statsmodels in /usr/local/lib/python3.11/dist-packages (from climada==6.0.1) (0.14.4)\n",
            "Collecting sparse (from climada==6.0.1)\n",
            "  Downloading sparse-0.17.0-py2.py3-none-any.whl.metadata (5.3 kB)\n",
            "Requirement already satisfied: tables in /usr/local/lib/python3.11/dist-packages (from climada==6.0.1) (3.10.2)\n",
            "Requirement already satisfied: tabulate in /usr/local/lib/python3.11/dist-packages (from climada==6.0.1) (0.9.0)\n",
            "Requirement already satisfied: tqdm in /usr/local/lib/python3.11/dist-packages (from climada==6.0.1) (4.67.1)\n",
            "Requirement already satisfied: xarray in /usr/local/lib/python3.11/dist-packages (from climada==6.0.1) (2025.3.1)\n",
            "Requirement already satisfied: xlrd in /usr/local/lib/python3.11/dist-packages (from climada==6.0.1) (2.0.2)\n",
            "Collecting xlsxwriter (from climada==6.0.1)\n",
            "  Downloading xlsxwriter-3.2.5-py3-none-any.whl.metadata (2.7 kB)\n",
            "Collecting colorama<0.5.0,>=0.4.6 (from bayesian-optimization<2.0->climada==6.0.1)\n",
            "  Downloading colorama-0.4.6-py2.py3-none-any.whl.metadata (17 kB)\n",
            "Requirement already satisfied: numpy>=1.25 in /usr/local/lib/python3.11/dist-packages (from bayesian-optimization<2.0->climada==6.0.1) (2.0.2)\n",
            "Requirement already satisfied: scipy<2.0.0,>=1.0.0 in /usr/local/lib/python3.11/dist-packages (from bayesian-optimization<2.0->climada==6.0.1) (1.15.3)\n",
            "Requirement already satisfied: joblib>=1.2.0 in /usr/local/lib/python3.11/dist-packages (from scikit-learn->climada==6.0.1) (1.5.1)\n",
            "Requirement already satisfied: threadpoolctl>=3.1.0 in /usr/local/lib/python3.11/dist-packages (from scikit-learn->climada==6.0.1) (3.6.0)\n",
            "Requirement already satisfied: shapely>=1.8 in /usr/local/lib/python3.11/dist-packages (from cartopy->climada==6.0.1) (2.1.1)\n",
            "Requirement already satisfied: packaging>=21 in /usr/local/lib/python3.11/dist-packages (from cartopy->climada==6.0.1) (24.2)\n",
            "Requirement already satisfied: pyshp>=2.3 in /usr/local/lib/python3.11/dist-packages (from cartopy->climada==6.0.1) (2.3.1)\n",
            "Requirement already satisfied: contourpy>=1.0.1 in /usr/local/lib/python3.11/dist-packages (from matplotlib->climada==6.0.1) (1.3.2)\n",
            "Requirement already satisfied: cycler>=0.10 in /usr/local/lib/python3.11/dist-packages (from matplotlib->climada==6.0.1) (0.12.1)\n",
            "Requirement already satisfied: fonttools>=4.22.0 in /usr/local/lib/python3.11/dist-packages (from matplotlib->climada==6.0.1) (4.58.4)\n",
            "Requirement already satisfied: kiwisolver>=1.3.1 in /usr/local/lib/python3.11/dist-packages (from matplotlib->climada==6.0.1) (1.4.8)\n",
            "Requirement already satisfied: pyparsing>=2.3.1 in /usr/local/lib/python3.11/dist-packages (from matplotlib->climada==6.0.1) (3.2.3)\n",
            "Requirement already satisfied: python-dateutil>=2.7 in /usr/local/lib/python3.11/dist-packages (from matplotlib->climada==6.0.1) (2.9.0.post0)\n",
            "Requirement already satisfied: certifi in /usr/local/lib/python3.11/dist-packages (from pyproj->climada==6.0.1) (2025.7.9)\n",
            "Requirement already satisfied: attrs>=19.2 in /usr/local/lib/python3.11/dist-packages (from cfgrib->climada==6.0.1) (25.3.0)\n",
            "Requirement already satisfied: click in /usr/local/lib/python3.11/dist-packages (from cfgrib->climada==6.0.1) (8.2.1)\n",
            "Collecting eccodes>=0.9.8 (from cfgrib->climada==6.0.1)\n",
            "  Downloading eccodes-2.42.0-cp311-cp311-manylinux_2_28_x86_64.whl.metadata (14 kB)\n",
            "Requirement already satisfied: geopy in /usr/local/lib/python3.11/dist-packages (from contextily->climada==6.0.1) (2.4.1)\n",
            "Collecting mercantile (from contextily->climada==6.0.1)\n",
            "  Downloading mercantile-1.2.1-py3-none-any.whl.metadata (4.8 kB)\n",
            "Requirement already satisfied: requests in /usr/local/lib/python3.11/dist-packages (from contextily->climada==6.0.1) (2.32.3)\n",
            "Requirement already satisfied: xyzservices in /usr/local/lib/python3.11/dist-packages (from contextily->climada==6.0.1) (2025.4.0)\n",
            "Requirement already satisfied: cloudpickle>=3.0.0 in /usr/local/lib/python3.11/dist-packages (from dask->climada==6.0.1) (3.1.1)\n",
            "Requirement already satisfied: fsspec>=2021.09.0 in /usr/local/lib/python3.11/dist-packages (from dask->climada==6.0.1) (2025.3.2)\n",
            "Requirement already satisfied: partd>=1.4.0 in /usr/local/lib/python3.11/dist-packages (from dask->climada==6.0.1) (1.4.2)\n",
            "Requirement already satisfied: pyyaml>=5.3.1 in /usr/local/lib/python3.11/dist-packages (from dask->climada==6.0.1) (6.0.2)\n",
            "Requirement already satisfied: toolz>=0.10.0 in /usr/local/lib/python3.11/dist-packages (from dask->climada==6.0.1) (0.12.1)\n",
            "Requirement already satisfied: importlib_metadata>=4.13.0 in /usr/local/lib/python3.11/dist-packages (from dask->climada==6.0.1) (8.7.0)\n",
            "Requirement already satisfied: pyogrio>=0.7.2 in /usr/local/lib/python3.11/dist-packages (from geopandas->climada==6.0.1) (0.11.0)\n",
            "Requirement already satisfied: pytz>=2020.1 in /usr/local/lib/python3.11/dist-packages (from pandas->climada==6.0.1) (2025.2)\n",
            "Requirement already satisfied: tzdata>=2022.7 in /usr/local/lib/python3.11/dist-packages (from pandas->climada==6.0.1) (2025.2)\n",
            "Collecting cftime (from netcdf4->climada==6.0.1)\n",
            "  Downloading cftime-1.6.4.post1-cp311-cp311-manylinux_2_17_x86_64.manylinux2014_x86_64.whl.metadata (8.7 kB)\n",
            "Requirement already satisfied: llvmlite<0.44,>=0.43.0dev0 in /usr/local/lib/python3.11/dist-packages (from numba->climada==6.0.1) (0.43.0)\n",
            "Requirement already satisfied: et-xmlfile in /usr/local/lib/python3.11/dist-packages (from openpyxl->climada==6.0.1) (2.0.0)\n",
            "Requirement already satisfied: lxml in /usr/local/lib/python3.11/dist-packages (from pandas-datareader->climada==6.0.1) (5.4.0)\n",
            "Collecting ppft>=1.7.7 (from pathos->climada==6.0.1)\n",
            "  Downloading ppft-1.7.7-py3-none-any.whl.metadata (12 kB)\n",
            "Collecting dill>=0.4.0 (from pathos->climada==6.0.1)\n",
            "  Downloading dill-0.4.0-py3-none-any.whl.metadata (10 kB)\n",
            "Collecting pox>=0.3.6 (from pathos->climada==6.0.1)\n",
            "  Downloading pox-0.3.6-py3-none-any.whl.metadata (8.0 kB)\n",
            "Collecting multiprocess>=0.70.18 (from pathos->climada==6.0.1)\n",
            "  Downloading multiprocess-0.70.18-py311-none-any.whl.metadata (7.5 kB)\n",
            "Requirement already satisfied: platformdirs>=2.1.0 in /usr/local/lib/python3.11/dist-packages (from pint->climada==6.0.1) (4.3.8)\n",
            "Requirement already satisfied: typing-extensions>=4.0.0 in /usr/local/lib/python3.11/dist-packages (from pint->climada==6.0.1) (4.14.0)\n",
            "Collecting flexcache>=0.3 (from pint->climada==6.0.1)\n",
            "  Downloading flexcache-0.3-py3-none-any.whl.metadata (7.0 kB)\n",
            "Collecting flexparser>=0.4 (from pint->climada==6.0.1)\n",
            "  Downloading flexparser-0.4-py3-none-any.whl.metadata (18 kB)\n",
            "Collecting affine (from rasterio->climada==6.0.1)\n",
            "  Downloading affine-2.4.0-py3-none-any.whl.metadata (4.0 kB)\n",
            "Requirement already satisfied: cligj>=0.5 in /usr/local/lib/python3.11/dist-packages (from rasterio->climada==6.0.1) (0.7.2)\n",
            "Requirement already satisfied: click-plugins in /usr/local/lib/python3.11/dist-packages (from rasterio->climada==6.0.1) (1.1.1.2)\n",
            "Requirement already satisfied: patsy>=0.5.6 in /usr/local/lib/python3.11/dist-packages (from statsmodels->climada==6.0.1) (1.0.1)\n",
            "Requirement already satisfied: numexpr>=2.6.2 in /usr/local/lib/python3.11/dist-packages (from tables->climada==6.0.1) (2.11.0)\n",
            "Requirement already satisfied: py-cpuinfo in /usr/local/lib/python3.11/dist-packages (from tables->climada==6.0.1) (9.0.0)\n",
            "Requirement already satisfied: blosc2>=2.3.0 in /usr/local/lib/python3.11/dist-packages (from tables->climada==6.0.1) (3.5.1)\n",
            "Requirement already satisfied: ndindex in /usr/local/lib/python3.11/dist-packages (from blosc2>=2.3.0->tables->climada==6.0.1) (1.10.0)\n",
            "Requirement already satisfied: msgpack in /usr/local/lib/python3.11/dist-packages (from blosc2>=2.3.0->tables->climada==6.0.1) (1.1.1)\n",
            "Requirement already satisfied: cffi in /usr/local/lib/python3.11/dist-packages (from eccodes>=0.9.8->cfgrib->climada==6.0.1) (1.17.1)\n",
            "Collecting findlibs (from eccodes>=0.9.8->cfgrib->climada==6.0.1)\n",
            "  Downloading findlibs-0.1.1-py3-none-any.whl.metadata (3.6 kB)\n",
            "Requirement already satisfied: zipp>=3.20 in /usr/local/lib/python3.11/dist-packages (from importlib_metadata>=4.13.0->dask->climada==6.0.1) (3.23.0)\n",
            "Requirement already satisfied: locket in /usr/local/lib/python3.11/dist-packages (from partd>=1.4.0->dask->climada==6.0.1) (1.0.0)\n",
            "Requirement already satisfied: six>=1.5 in /usr/local/lib/python3.11/dist-packages (from python-dateutil>=2.7->matplotlib->climada==6.0.1) (1.17.0)\n",
            "Requirement already satisfied: charset-normalizer<4,>=2 in /usr/local/lib/python3.11/dist-packages (from requests->contextily->climada==6.0.1) (3.4.2)\n",
            "Requirement already satisfied: idna<4,>=2.5 in /usr/local/lib/python3.11/dist-packages (from requests->contextily->climada==6.0.1) (3.10)\n",
            "Requirement already satisfied: urllib3<3,>=1.21.1 in /usr/local/lib/python3.11/dist-packages (from requests->contextily->climada==6.0.1) (2.4.0)\n",
            "Requirement already satisfied: geographiclib<3,>=1.52 in /usr/local/lib/python3.11/dist-packages (from geopy->contextily->climada==6.0.1) (2.0)\n",
            "Requirement already satisfied: pycparser in /usr/local/lib/python3.11/dist-packages (from cffi->eccodes>=0.9.8->cfgrib->climada==6.0.1) (2.22)\n",
            "Downloading bayesian_optimization-1.5.1-py3-none-any.whl (28 kB)\n",
            "Downloading Cartopy-0.24.1-cp311-cp311-manylinux_2_17_x86_64.manylinux2014_x86_64.whl (11.7 MB)\n",
            "\u001b[2K   \u001b[90m━━━━━━━━━━━━━━━━━━━━━━━━━━━━━━━━━━━━━━━━\u001b[0m \u001b[32m11.7/11.7 MB\u001b[0m \u001b[31m65.0 MB/s\u001b[0m eta \u001b[36m0:00:00\u001b[0m\n",
            "\u001b[?25hDownloading cfgrib-0.9.15.0-py3-none-any.whl (48 kB)\n",
            "\u001b[2K   \u001b[90m━━━━━━━━━━━━━━━━━━━━━━━━━━━━━━━━━━━━━━━━\u001b[0m \u001b[32m48.9/48.9 kB\u001b[0m \u001b[31m2.2 MB/s\u001b[0m eta \u001b[36m0:00:00\u001b[0m\n",
            "\u001b[?25hDownloading contextily-1.6.2-py3-none-any.whl (17 kB)\n",
            "Downloading deprecation-2.1.0-py2.py3-none-any.whl (11 kB)\n",
            "Downloading haversine-2.9.0-py2.py3-none-any.whl (7.7 kB)\n",
            "Downloading netCDF4-1.7.2-cp311-cp311-manylinux_2_17_x86_64.manylinux2014_x86_64.whl (9.3 MB)\n",
            "\u001b[2K   \u001b[90m━━━━━━━━━━━━━━━━━━━━━━━━━━━━━━━━━━━━━━━━\u001b[0m \u001b[32m9.3/9.3 MB\u001b[0m \u001b[31m82.8 MB/s\u001b[0m eta \u001b[36m0:00:00\u001b[0m\n",
            "\u001b[?25hDownloading overpy-0.7-py3-none-any.whl (14 kB)\n",
            "Downloading pathos-0.3.4-py3-none-any.whl (82 kB)\n",
            "\u001b[2K   \u001b[90m━━━━━━━━━━━━━━━━━━━━━━━━━━━━━━━━━━━━━━━━\u001b[0m \u001b[32m82.3/82.3 kB\u001b[0m \u001b[31m5.2 MB/s\u001b[0m eta \u001b[36m0:00:00\u001b[0m\n",
            "\u001b[?25hDownloading Pint-0.24.4-py3-none-any.whl (302 kB)\n",
            "\u001b[2K   \u001b[90m━━━━━━━━━━━━━━━━━━━━━━━━━━━━━━━━━━━━━━━━\u001b[0m \u001b[32m302.0/302.0 kB\u001b[0m \u001b[31m14.9 MB/s\u001b[0m eta \u001b[36m0:00:00\u001b[0m\n",
            "\u001b[?25hDownloading pycountry-24.6.1-py3-none-any.whl (6.3 MB)\n",
            "\u001b[2K   \u001b[90m━━━━━━━━━━━━━━━━━━━━━━━━━━━━━━━━━━━━━━━━\u001b[0m \u001b[32m6.3/6.3 MB\u001b[0m \u001b[31m77.6 MB/s\u001b[0m eta \u001b[36m0:00:00\u001b[0m\n",
            "\u001b[?25hDownloading rasterio-1.4.3-cp311-cp311-manylinux_2_17_x86_64.manylinux2014_x86_64.whl (22.2 MB)\n",
            "\u001b[2K   \u001b[90m━━━━━━━━━━━━━━━━━━━━━━━━━━━━━━━━━━━━━━━━\u001b[0m \u001b[32m22.2/22.2 MB\u001b[0m \u001b[31m66.2 MB/s\u001b[0m eta \u001b[36m0:00:00\u001b[0m\n",
            "\u001b[?25hDownloading salib-1.5.1-py3-none-any.whl (778 kB)\n",
            "\u001b[2K   \u001b[90m━━━━━━━━━━━━━━━━━━━━━━━━━━━━━━━━━━━━━━━━\u001b[0m \u001b[32m778.9/778.9 kB\u001b[0m \u001b[31m33.0 MB/s\u001b[0m eta \u001b[36m0:00:00\u001b[0m\n",
            "\u001b[?25hDownloading sparse-0.17.0-py2.py3-none-any.whl (259 kB)\n",
            "\u001b[2K   \u001b[90m━━━━━━━━━━━━━━━━━━━━━━━━━━━━━━━━━━━━━━━━\u001b[0m \u001b[32m259.4/259.4 kB\u001b[0m \u001b[31m12.2 MB/s\u001b[0m eta \u001b[36m0:00:00\u001b[0m\n",
            "\u001b[?25hDownloading xlsxwriter-3.2.5-py3-none-any.whl (172 kB)\n",
            "\u001b[2K   \u001b[90m━━━━━━━━━━━━━━━━━━━━━━━━━━━━━━━━━━━━━━━━\u001b[0m \u001b[32m172.3/172.3 kB\u001b[0m \u001b[31m4.5 MB/s\u001b[0m eta \u001b[36m0:00:00\u001b[0m\n",
            "\u001b[?25hDownloading colorama-0.4.6-py2.py3-none-any.whl (25 kB)\n",
            "Downloading dill-0.4.0-py3-none-any.whl (119 kB)\n",
            "\u001b[2K   \u001b[90m━━━━━━━━━━━━━━━━━━━━━━━━━━━━━━━━━━━━━━━━\u001b[0m \u001b[32m119.7/119.7 kB\u001b[0m \u001b[31m6.6 MB/s\u001b[0m eta \u001b[36m0:00:00\u001b[0m\n",
            "\u001b[?25hDownloading eccodes-2.42.0-cp311-cp311-manylinux_2_28_x86_64.whl (8.2 MB)\n",
            "\u001b[2K   \u001b[90m━━━━━━━━━━━━━━━━━━━━━━━━━━━━━━━━━━━━━━━━\u001b[0m \u001b[32m8.2/8.2 MB\u001b[0m \u001b[31m75.6 MB/s\u001b[0m eta \u001b[36m0:00:00\u001b[0m\n",
            "\u001b[?25hDownloading flexcache-0.3-py3-none-any.whl (13 kB)\n",
            "Downloading flexparser-0.4-py3-none-any.whl (27 kB)\n",
            "Downloading multiprocess-0.70.18-py311-none-any.whl (144 kB)\n",
            "\u001b[2K   \u001b[90m━━━━━━━━━━━━━━━━━━━━━━━━━━━━━━━━━━━━━━━━\u001b[0m \u001b[32m144.5/144.5 kB\u001b[0m \u001b[31m7.7 MB/s\u001b[0m eta \u001b[36m0:00:00\u001b[0m\n",
            "\u001b[?25hDownloading pox-0.3.6-py3-none-any.whl (29 kB)\n",
            "Downloading ppft-1.7.7-py3-none-any.whl (56 kB)\n",
            "\u001b[2K   \u001b[90m━━━━━━━━━━━━━━━━━━━━━━━━━━━━━━━━━━━━━━━━\u001b[0m \u001b[32m56.8/56.8 kB\u001b[0m \u001b[31m3.6 MB/s\u001b[0m eta \u001b[36m0:00:00\u001b[0m\n",
            "\u001b[?25hDownloading affine-2.4.0-py3-none-any.whl (15 kB)\n",
            "Downloading cftime-1.6.4.post1-cp311-cp311-manylinux_2_17_x86_64.manylinux2014_x86_64.whl (1.4 MB)\n",
            "\u001b[2K   \u001b[90m━━━━━━━━━━━━━━━━━━━━━━━━━━━━━━━━━━━━━━━━\u001b[0m \u001b[32m1.4/1.4 MB\u001b[0m \u001b[31m47.4 MB/s\u001b[0m eta \u001b[36m0:00:00\u001b[0m\n",
            "\u001b[?25hDownloading mercantile-1.2.1-py3-none-any.whl (14 kB)\n",
            "Downloading findlibs-0.1.1-py3-none-any.whl (10 kB)\n",
            "Building wheels for collected packages: climada\n",
            "  Building editable for climada (pyproject.toml) ... \u001b[?25l\u001b[?25hdone\n",
            "  Created wheel for climada: filename=climada-6.0.1-0.editable-py3-none-any.whl size=18852 sha256=c3bf3ee9262fcdb220134aeb338b51bc09f1a3c32d62edb9fd7694b798d1bc1b\n",
            "  Stored in directory: /tmp/pip-ephem-wheel-cache-69vqywgu/wheels/1d/8b/5c/73a112fe4921aceefa9c417fb6cd8e08075d7ad20c85b2d14c\n",
            "Successfully built climada\n",
            "Installing collected packages: findlibs, xlsxwriter, pycountry, ppft, pox, overpy, mercantile, haversine, flexparser, flexcache, dill, deprecation, colorama, cftime, affine, sparse, rasterio, pint, netcdf4, multiprocess, eccodes, salib, pathos, contextily, cfgrib, cartopy, bayesian-optimization, climada\n",
            "  Attempting uninstall: dill\n",
            "    Found existing installation: dill 0.3.7\n",
            "    Uninstalling dill-0.3.7:\n",
            "      Successfully uninstalled dill-0.3.7\n",
            "  Attempting uninstall: multiprocess\n",
            "    Found existing installation: multiprocess 0.70.15\n",
            "    Uninstalling multiprocess-0.70.15:\n",
            "      Successfully uninstalled multiprocess-0.70.15\n",
            "\u001b[31mERROR: pip's dependency resolver does not currently take into account all the packages that are installed. This behaviour is the source of the following dependency conflicts.\n",
            "datasets 2.14.4 requires dill<0.3.8,>=0.3.0, but you have dill 0.4.0 which is incompatible.\u001b[0m\u001b[31m\n",
            "\u001b[0mSuccessfully installed affine-2.4.0 bayesian-optimization-1.5.1 cartopy-0.24.1 cfgrib-0.9.15.0 cftime-1.6.4.post1 climada-6.0.1 colorama-0.4.6 contextily-1.6.2 deprecation-2.1.0 dill-0.4.0 eccodes-2.42.0 findlibs-0.1.1 flexcache-0.3 flexparser-0.4 haversine-2.9.0 mercantile-1.2.1 multiprocess-0.70.18 netcdf4-1.7.2 overpy-0.7 pathos-0.3.4 pint-0.24.4 pox-0.3.6 ppft-1.7.7 pycountry-24.6.1 rasterio-1.4.3 salib-1.5.1 sparse-0.17.0 xlsxwriter-3.2.5\n"
          ]
        }
      ]
    },
    {
      "cell_type": "code",
      "source": [
        "import climada\n",
        "from climada.hazard import Hazard\n",
        "from climada.util.constants import HAZ_DEMO_FL"
      ],
      "metadata": {
        "id": "JFeNRVtBtkne"
      },
      "execution_count": 7,
      "outputs": []
    }
  ]
}